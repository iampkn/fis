{
 "cells": [
  {
   "cell_type": "code",
   "execution_count": 1,
   "metadata": {},
   "outputs": [],
   "source": [
    "import requests\n",
    "import pandas as pd\n",
    "import os\n",
    "\n",
    "_STOCK_LIST = [\"BSR\", \"PVS\", \"HAG\", \"HAX\", \"VNM\", \"GAS\", \"STB\", \"HUT\", \"NT2\"]\n",
    "\n",
    "headers = {\n",
    "        'authority': 'fwtapi2.fialda.com',\n",
    "        'method': 'GET',\n",
    "        'scheme' : 'https',\n",
    "        'Accept' : 'text/html,application/xhtml+xml,application/xml;q=0.9,image/webp,image/apng,*/*;q=0.8,application/signed-exchange;v=b3;q=0.7',\n",
    "        'Accept-Encoding' : 'gzip, deflate, br',\n",
    "        'Accept-Language' : 'en-US,en;q=0.9',\n",
    "        'Cache-Control' : 'max-age=0',\n",
    "        'Sec-Ch-Ua' : '\"Not_A Brand\";v=\"8\", \"Chromium\";v=\"120\", \"Microsoft Edge\";v=\"120\"',\n",
    "        'Sec-Ch-Ua-Mobile' : '?0',\n",
    "        'Sec-Ch-Ua-Platform' : '\"Windows\"',\n",
    "        'Sec-Fetch-Dest' : 'document',\n",
    "        'Sec-Fetch-Mode': 'navigate',\n",
    "        'Sec-Fetch-Site' : 'None',\n",
    "        'Sec-Fetch-User' : '?1',\n",
    "        'Upgrade-Insecure-Requests' : '1',\n",
    "        'User-Agent' : \"Mozilla/5.0 (Windows NT 10.0; Win64; x64) AppleWebKit/537.36 (KHTML, like Gecko) Chrome/120.0.0.0 Safari/537.36 Edg/120.0.0.0\"\n",
    "    }"
   ]
  },
  {
   "cell_type": "code",
   "execution_count": 2,
   "metadata": {},
   "outputs": [
    {
     "name": "stderr",
     "output_type": "stream",
     "text": [
      "C:\\Users\\quang\\AppData\\Local\\Temp\\ipykernel_17576\\3430199545.py:18: FutureWarning: The behavior of DataFrame concatenation with empty or all-NA entries is deprecated. In a future version, this will no longer exclude empty or all-NA columns when determining the result dtypes. To retain the old behavior, exclude the relevant entries before the concat operation.\n",
      "  df_api = pd.concat([df_api, pd.DataFrame([response[i]])])\n",
      "C:\\Users\\quang\\AppData\\Local\\Temp\\ipykernel_17576\\3430199545.py:23: FutureWarning: The behavior of DataFrame concatenation with empty or all-NA entries is deprecated. In a future version, this will no longer exclude empty or all-NA columns when determining the result dtypes. To retain the old behavior, exclude the relevant entries before the concat operation.\n",
      "  df_api = pd.concat([df_api, pd.DataFrame([response[i]])])\n",
      "C:\\Users\\quang\\AppData\\Local\\Temp\\ipykernel_17576\\3430199545.py:18: FutureWarning: The behavior of DataFrame concatenation with empty or all-NA entries is deprecated. In a future version, this will no longer exclude empty or all-NA columns when determining the result dtypes. To retain the old behavior, exclude the relevant entries before the concat operation.\n",
      "  df_api = pd.concat([df_api, pd.DataFrame([response[i]])])\n",
      "C:\\Users\\quang\\AppData\\Local\\Temp\\ipykernel_17576\\3430199545.py:23: FutureWarning: The behavior of DataFrame concatenation with empty or all-NA entries is deprecated. In a future version, this will no longer exclude empty or all-NA columns when determining the result dtypes. To retain the old behavior, exclude the relevant entries before the concat operation.\n",
      "  df_api = pd.concat([df_api, pd.DataFrame([response[i]])])\n",
      "C:\\Users\\quang\\AppData\\Local\\Temp\\ipykernel_17576\\3430199545.py:18: FutureWarning: The behavior of DataFrame concatenation with empty or all-NA entries is deprecated. In a future version, this will no longer exclude empty or all-NA columns when determining the result dtypes. To retain the old behavior, exclude the relevant entries before the concat operation.\n",
      "  df_api = pd.concat([df_api, pd.DataFrame([response[i]])])\n",
      "C:\\Users\\quang\\AppData\\Local\\Temp\\ipykernel_17576\\3430199545.py:23: FutureWarning: The behavior of DataFrame concatenation with empty or all-NA entries is deprecated. In a future version, this will no longer exclude empty or all-NA columns when determining the result dtypes. To retain the old behavior, exclude the relevant entries before the concat operation.\n",
      "  df_api = pd.concat([df_api, pd.DataFrame([response[i]])])\n",
      "C:\\Users\\quang\\AppData\\Local\\Temp\\ipykernel_17576\\3430199545.py:18: FutureWarning: The behavior of DataFrame concatenation with empty or all-NA entries is deprecated. In a future version, this will no longer exclude empty or all-NA columns when determining the result dtypes. To retain the old behavior, exclude the relevant entries before the concat operation.\n",
      "  df_api = pd.concat([df_api, pd.DataFrame([response[i]])])\n",
      "C:\\Users\\quang\\AppData\\Local\\Temp\\ipykernel_17576\\3430199545.py:23: FutureWarning: The behavior of DataFrame concatenation with empty or all-NA entries is deprecated. In a future version, this will no longer exclude empty or all-NA columns when determining the result dtypes. To retain the old behavior, exclude the relevant entries before the concat operation.\n",
      "  df_api = pd.concat([df_api, pd.DataFrame([response[i]])])\n",
      "C:\\Users\\quang\\AppData\\Local\\Temp\\ipykernel_17576\\3430199545.py:18: FutureWarning: The behavior of DataFrame concatenation with empty or all-NA entries is deprecated. In a future version, this will no longer exclude empty or all-NA columns when determining the result dtypes. To retain the old behavior, exclude the relevant entries before the concat operation.\n",
      "  df_api = pd.concat([df_api, pd.DataFrame([response[i]])])\n",
      "C:\\Users\\quang\\AppData\\Local\\Temp\\ipykernel_17576\\3430199545.py:23: FutureWarning: The behavior of DataFrame concatenation with empty or all-NA entries is deprecated. In a future version, this will no longer exclude empty or all-NA columns when determining the result dtypes. To retain the old behavior, exclude the relevant entries before the concat operation.\n",
      "  df_api = pd.concat([df_api, pd.DataFrame([response[i]])])\n",
      "C:\\Users\\quang\\AppData\\Local\\Temp\\ipykernel_17576\\3430199545.py:18: FutureWarning: The behavior of DataFrame concatenation with empty or all-NA entries is deprecated. In a future version, this will no longer exclude empty or all-NA columns when determining the result dtypes. To retain the old behavior, exclude the relevant entries before the concat operation.\n",
      "  df_api = pd.concat([df_api, pd.DataFrame([response[i]])])\n",
      "C:\\Users\\quang\\AppData\\Local\\Temp\\ipykernel_17576\\3430199545.py:23: FutureWarning: The behavior of DataFrame concatenation with empty or all-NA entries is deprecated. In a future version, this will no longer exclude empty or all-NA columns when determining the result dtypes. To retain the old behavior, exclude the relevant entries before the concat operation.\n",
      "  df_api = pd.concat([df_api, pd.DataFrame([response[i]])])\n",
      "C:\\Users\\quang\\AppData\\Local\\Temp\\ipykernel_17576\\3430199545.py:18: FutureWarning: The behavior of DataFrame concatenation with empty or all-NA entries is deprecated. In a future version, this will no longer exclude empty or all-NA columns when determining the result dtypes. To retain the old behavior, exclude the relevant entries before the concat operation.\n",
      "  df_api = pd.concat([df_api, pd.DataFrame([response[i]])])\n",
      "C:\\Users\\quang\\AppData\\Local\\Temp\\ipykernel_17576\\3430199545.py:23: FutureWarning: The behavior of DataFrame concatenation with empty or all-NA entries is deprecated. In a future version, this will no longer exclude empty or all-NA columns when determining the result dtypes. To retain the old behavior, exclude the relevant entries before the concat operation.\n",
      "  df_api = pd.concat([df_api, pd.DataFrame([response[i]])])\n",
      "C:\\Users\\quang\\AppData\\Local\\Temp\\ipykernel_17576\\3430199545.py:18: FutureWarning: The behavior of DataFrame concatenation with empty or all-NA entries is deprecated. In a future version, this will no longer exclude empty or all-NA columns when determining the result dtypes. To retain the old behavior, exclude the relevant entries before the concat operation.\n",
      "  df_api = pd.concat([df_api, pd.DataFrame([response[i]])])\n",
      "C:\\Users\\quang\\AppData\\Local\\Temp\\ipykernel_17576\\3430199545.py:23: FutureWarning: The behavior of DataFrame concatenation with empty or all-NA entries is deprecated. In a future version, this will no longer exclude empty or all-NA columns when determining the result dtypes. To retain the old behavior, exclude the relevant entries before the concat operation.\n",
      "  df_api = pd.concat([df_api, pd.DataFrame([response[i]])])\n"
     ]
    }
   ],
   "source": [
    "for stock in _STOCK_LIST:\n",
    "    folder_path = f\"../stock_data/{stock}\"\n",
    "    api_url = f\"https://fwtapi1.fialda.com/api/services/app/StockInfo/GetFS_BalanceSheet_General?symbol={stock}&isQuarterReport=false\"\n",
    "\n",
    "    response = requests.get(api_url,headers=headers)\n",
    "\n",
    "    # Kiểm tra xem có lỗi không (status code 200 là thành công)\n",
    "    if response.status_code == 200:\n",
    "        # In nội dung phản hồi\n",
    "        response = response.json()[\"result\"]\n",
    "    else:\n",
    "        # In lỗi nếu có\n",
    "        print(f\"Lỗi {response.status_code}: {response.text}\")\n",
    "\n",
    "    response_lenght = len(response)\n",
    "    df_api = pd.DataFrame()\n",
    "    for i in range(response_lenght):\n",
    "        df_api = pd.concat([df_api, pd.DataFrame([response[i]])])\n",
    "\n",
    "    response_lenght = len(response)\n",
    "    df_api = pd.DataFrame()\n",
    "    for i in range(response_lenght):\n",
    "        df_api = pd.concat([df_api, pd.DataFrame([response[i]])])\n",
    "\n",
    "    mapping = [{\"Code\": \"BSA1\",\"Name\": \"Tài sản ngắn hạn\"},{\"Code\": \"BSA2\",\"Name\": \"Tiền và các khoản tương đương tiền\"},{\"Code\": \"BSA3\",\"Name\": \"Tiền\"},{\"Code\": \"BSA4\",\"Name\": \"Các khoản tương đương tiền\"},{\"Code\": \"BSA5\",\"Name\": \"Các khoản đầu tư tài chính ngắn hạn\"},{\"Code\": \"BSA6\",\"Name\": \"Đầu tư ngắn hạn\"},{\"Code\": \"BSA7\",\"Name\": \"Dự phòng giảm giá đầu tư ngắn hạn\"},{\"Code\": \"BSB108\",\"Name\": \"Đầu tư giữ đến ngày đáo hạn\"},{\"Code\": \"BSA8\",\"Name\": \"Các khoản phải thu ngắn hạn\"},{\"Code\": \"BSA9\",\"Name\": \"Phải thu khách hàng\"},{\"Code\": \"BSA10\",\"Name\": \"Trả trước cho người bán\"},{\"Code\": \"BSA11\",\"Name\": \"Phải thu nội bộ ngắn hạn\"},{\"Code\": \"BSA12\",\"Name\": \"Phải thu theo tiến độ kế hoạch hợp đồng xây dựng\"},{\"Code\": \"BSA159\",\"Name\": \"Phải thu về cho vay ngắn hạn\"},{\"Code\": \"BSA13\",\"Name\": \"Các khoản phải thu khác\"},{\"Code\": \"BSA14\",\"Name\": \"Dự phòng phải thu ngắn hạn khó đòi\"},{\"Code\": \"BSI141\",\"Name\": \"Tài sản thiếu chờ xử lý\"},{\"Code\": \"BSA15\",\"Name\": \"Hàng tồn kho\"},{\"Code\": \"BSA16\",\"Name\": \"Hàng tồn kho\"},{\"Code\": \"BSA17\",\"Name\": \"Dự phòng giảm giá hàng tồn kho\"},{\"Code\": \"BSA18\",\"Name\": \"Tài sản ngắn hạn khác\"},{\"Code\": \"BSA19\",\"Name\": \"Chi phí trả trước ngắn hạn\"},{\"Code\": \"BSA20\",\"Name\": \"Thuế GTGT được khấu trừ\"},{\"Code\": \"BSA21\",\"Name\": \"Thuế và các khoản khác phải thu Nhà nước\"},{\"Code\": \"BSA160\",\"Name\": \"Giao dịch mua bán lại trái phiếu chính phủ\"},{\"Code\": \"BSA22\",\"Name\": \"Tài sản ngắn hạn khác\"},{\"Code\": \"BSA23\",\"Name\": \"Tài sản dài hạn\"},{\"Code\": \"BSA24\",\"Name\": \"Các khoản phải thu dài hạn\"},{\"Code\": \"BSA25\",\"Name\": \"Phải thu dài hạn của khách hàng\"},{\"Code\": \"BSA161\",\"Name\": \"Trả trước dài hạn người bán\"},{\"Code\": \"BSS134\",\"Name\": \"Vốn kinh doanh ở đơn vị trực thuộc\"},{\"Code\": \"BSA26\",\"Name\": \"Phải thu dài hạn nội bộ\"},{\"Code\": \"BSA162\",\"Name\": \"Phải thu về cho vay dài hạn\"},{\"Code\": \"BSA27\",\"Name\": \"Phải thu dài hạn khác\"},{\"Code\": \"BSA28\",\"Name\": \"Dự phòng phải thu dài hạn khó đòi\"},{\"Code\": \"BSA29\",\"Name\": \"Tài sản cố định\"},{\"Code\": \"BSA30\",\"Name\": \"Tài sản cố định hữu hình\"},{\"Code\": \"BSA33\",\"Name\": \"Tài sản cố định thuê tài chính\"},{\"Code\": \"BSA36\",\"Name\": \"Tài sản cố định vô hình\"},{\"Code\": \"BSA40\",\"Name\": \"Bất động sản đầu tư\"},{\"Code\": \"BSA41\",\"Name\": \"Nguyên giá bất động sản đầu tư\"},{\"Code\": \"BSA42\",\"Name\": \"Hao mòn bất động sản đầu tư\"},{\"Code\": \"BSA163\",\"Name\": \"Tài sản dở dang dài hạn\"},{\"Code\": \"BSA164\",\"Name\": \"Chi phí sản xuất, kinh doanh dở dang dài hạn\"},{\"Code\": \"BSA188\",\"Name\": \"Chi phí xây dựng cơ bản dở dang \"},{\"Code\": \"BSA43\",\"Name\": \"Các khoản đầu tư tài chính dài hạn\"},{\"Code\": \"BSA44\",\"Name\": \"Đầu tư vào công ty con\"},{\"Code\": \"BSA45\",\"Name\": \"Đầu tư vào công ty liên kết, liên doanh\"},{\"Code\": \"BSA46\",\"Name\": \"Đầu tư dài hạn khác\"},{\"Code\": \"BSA47\",\"Name\": \"Dự phòng giảm giá đầu tư tài chính dài hạn\"},{\"Code\": \"BSA165\",\"Name\": \"Đầu tư dài hạn giữ đến ngày đáo hạn\"},{\"Code\": \"BSA49\",\"Name\": \"Tài sản dài hạn khác\"},{\"Code\": \"BSA50\",\"Name\": \"Chi phí trả trước dài hạn\"},{\"Code\": \"BSA51\",\"Name\": \"Tài sản thuế thu nhập hoãn lại\"},{\"Code\": \"BSA166\",\"Name\": \"Thiết bị, vật tư, phụ tùng thay thế dài hạn\"},{\"Code\": \"BSA52\",\"Name\": \"Tài sản dài hạn khác\"},{\"Code\": \"BSA209\",\"Name\": \"Lợi thế thương mại\"},{\"Code\": \"BSA53\",\"Name\": \"TỔNG CỘNG TÀI SẢN\"},{\"Code\": \"BSA54\",\"Name\": \"Nợ phải trả\"},{\"Code\": \"BSA55\",\"Name\": \"Nợ ngắn hạn\"},{\"Code\": \"BSA56\",\"Name\": \"Vay và nợ ngắn hạn\"},{\"Code\": \"BSA57\",\"Name\": \"Phải trả người bán\"},{\"Code\": \"BSA58\",\"Name\": \"Người mua trả tiền trước\"},{\"Code\": \"BSA59\",\"Name\": \"Thuế và các khoản phải nộp Nhà nước\"},{\"Code\": \"BSA60\",\"Name\": \"Phải trả người lao động\"},{\"Code\": \"BSA61\",\"Name\": \"Chi phí phải trả\"},{\"Code\": \"BSA62\",\"Name\": \"Phải trả nội bộ\"},{\"Code\": \"BSA63\",\"Name\": \"Phải trả theo tiến độ kế hoạch hợp đồng xây dựng\"},{\"Code\": \"BSA64\",\"Name\": \"Các khoản phải trả, phải nộp ngắn hạn khác\"},{\"Code\": \"BSA66\",\"Name\": \"Quỹ khen thưởng, phúc lợi\"},{\"Code\": \"BSA167\",\"Name\": \"Doanh thu chưa thực hiện ngắn hạn\"},{\"Code\": \"BSA65\",\"Name\": \"Dự phòng phải trả ngắn hạn\"},{\"Code\": \"BSA168\",\"Name\": \"Quỹ bình ổn giá\"},{\"Code\": \"BSA169\",\"Name\": \"Giao dịch mua bán lại trái phiếu chính phủ\"},{\"Code\": \"BSA67\",\"Name\": \"Nợ dài hạn\"},{\"Code\": \"BSA68\",\"Name\": \"Phải trả dài hạn người bán\"},{\"Code\": \"BSA170\",\"Name\": \"Người mua trả trước dài hạn\"},{\"Code\": \"BSA171\",\"Name\": \"Chi phí phải trả dài hạn\"},{\"Code\": \"BSA172\",\"Name\": \"Phải trả nội bộ về vốn kinh doanh\"},{\"Code\": \"BSA69\",\"Name\": \"Phải trả dài hạn nội bộ\"},{\"Code\": \"BSA70\",\"Name\": \"Phải trả dài hạn khác\"},{\"Code\": \"BSA71\",\"Name\": \"Vay và nợ dài hạn\"},{\"Code\": \"BSA173\",\"Name\": \"Trái phiếu chuyển đổi\"},{\"Code\": \"BSA174\",\"Name\": \"Cổ phiếu ưu đãi\"},{\"Code\": \"BSA72\",\"Name\": \"Thuế thu nhập hoãn lại phải trả\"},{\"Code\": \"BSA73\",\"Name\": \"Dự phòng trợ cấp mất việc làm\"},{\"Code\": \"BSA76\",\"Name\": \"Doanh thu chưa thực hiện dài hạn\"},{\"Code\": \"BSA77\",\"Name\": \"Quỹ phát triển khoa học và công nghệ\"},{\"Code\": \"BSA74\",\"Name\": \"Dự phòng phải trả dài hạn\"},{\"Code\": \"BSA78\",\"Name\": \"Vốn chủ sở hữu\"},{\"Code\": \"BSA79\",\"Name\": \"Vốn và các quỹ\"},{\"Code\": \"BSA80\",\"Name\": \"Vốn góp\"},{\"Code\": \"BSA81\",\"Name\": \"Thặng dư vốn cổ phần\"},{\"Code\": \"BSA176\",\"Name\": \"Quyền chọn chuyển đổi trái phiếu\"},{\"Code\": \"BSA82\",\"Name\": \"Vốn khác của chủ sở hữu\"},{\"Code\": \"BSA83\",\"Name\": \"Cổ phiếu quỹ\"},{\"Code\": \"BSA84\",\"Name\": \"Chênh lệch đánh giá lại tài sản\"},{\"Code\": \"BSA85\",\"Name\": \"Chênh lệch tỷ giá hối đoái\"},{\"Code\": \"BSA86\",\"Name\": \"Quỹ đầu tư phát triển\"},{\"Code\": \"BSA87\",\"Name\": \"Quỹ dự phòng tài chính\"},{\"Code\": \"BSA89\",\"Name\": \"Quỹ khác thuộc vốn chủ sở hữu\"},{\"Code\": \"BSA90\",\"Name\": \"Lợi nhuận sau thuế chưa phân phối\"},{\"Code\": \"BSA210\",\"Name\": \"Lợi ích cổ đông không kiểm soát\"},{\"Code\": \"BSA91\",\"Name\": \"Quỹ hỗ trợ sắp xếp doanh nghiệp\"},{\"Code\": \"BSA93\",\"Name\": \"Nguồn vốn đầu tư XDCB\"},{\"Code\": \"BSA92\",\"Name\": \"Nguồn kinh phí và quỹ khác\"},{\"Code\": \"BSA94\",\"Name\": \"Vốn ngân sách nhà nước\"},{\"Code\": \"BSA211\",\"Name\": \"Nguồn kinh phí đã hình thành TSCĐ\"},{\"Code\": \"BSA96\",\"Name\": \"TỔNG CỘNG NGUỒN VỐN\"}]\n",
    "    df_api.columns = df_api.columns.str.upper()\n",
    "\n",
    "    for i in range(len(mapping)):\n",
    "        df_api.rename(columns={\n",
    "                                mapping[i][\"Code\"]: mapping[i][\"Name\"]\n",
    "                                }, \n",
    "                    inplace=True)\n",
    "    df_api.to_excel(f\"{folder_path}/{stock}_cdkt_y.xlsx\")\n"
   ]
  }
 ],
 "metadata": {
  "kernelspec": {
   "display_name": "Python 3",
   "language": "python",
   "name": "python3"
  },
  "language_info": {
   "codemirror_mode": {
    "name": "ipython",
    "version": 3
   },
   "file_extension": ".py",
   "mimetype": "text/x-python",
   "name": "python",
   "nbconvert_exporter": "python",
   "pygments_lexer": "ipython3",
   "version": "3.11.7"
  }
 },
 "nbformat": 4,
 "nbformat_minor": 2
}
