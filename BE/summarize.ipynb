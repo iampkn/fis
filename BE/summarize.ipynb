{
 "cells": [
  {
   "cell_type": "markdown",
   "metadata": {},
   "source": [
    "# Load data"
   ]
  },
  {
   "cell_type": "code",
   "execution_count": 310,
   "metadata": {},
   "outputs": [
    {
     "name": "stderr",
     "output_type": "stream",
     "text": [
      "C:\\Users\\quang\\AppData\\Local\\Temp\\ipykernel_23328\\2486849306.py:39: FutureWarning: The behavior of DataFrame concatenation with empty or all-NA entries is deprecated. In a future version, this will no longer exclude empty or all-NA columns when determining the result dtypes. To retain the old behavior, exclude the relevant entries before the concat operation.\n",
      "  df_api = pd.concat([df_api, pd.DataFrame([response[i]])])\n"
     ]
    }
   ],
   "source": [
    "import pandas as pd\n",
    "import requests\n",
    "\n",
    "_STOCK = \"BSR\"\n",
    "\n",
    "headers = {\n",
    "        'authority': 'fwtapi2.fialda.com',\n",
    "        'method': 'GET',\n",
    "        'scheme' : 'https',\n",
    "        'Accept' : 'text/html,application/xhtml+xml,application/xml;q=0.9,image/webp,image/apng,*/*;q=0.8,application/signed-exchange;v=b3;q=0.7',\n",
    "        'Accept-Encoding' : 'gzip, deflate, br',\n",
    "        'Accept-Language' : 'en-US,en;q=0.9',\n",
    "        'Cache-Control' : 'max-age=0',\n",
    "        'Sec-Ch-Ua' : '\"Not_A Brand\";v=\"8\", \"Chromium\";v=\"120\", \"Microsoft Edge\";v=\"120\"',\n",
    "        'Sec-Ch-Ua-Mobile' : '?0',\n",
    "        'Sec-Ch-Ua-Platform' : '\"Windows\"',\n",
    "        'Sec-Fetch-Dest' : 'document',\n",
    "        'Sec-Fetch-Mode': 'navigate',\n",
    "        'Sec-Fetch-Site' : 'None',\n",
    "        'Sec-Fetch-User' : '?1',\n",
    "        'Upgrade-Insecure-Requests' : '1',\n",
    "        'User-Agent' : \"Mozilla/5.0 (Windows NT 10.0; Win64; x64) AppleWebKit/537.36 (KHTML, like Gecko) Chrome/120.0.0.0 Safari/537.36 Edg/120.0.0.0\"\n",
    "    }\n",
    "api_url = f\"https://fwtapi2.fialda.com/api/services/app/TechnicalAnalysis/GetFinancialHighlights?symbol={_STOCK}\"\n",
    "\n",
    "response = requests.get(api_url,headers=headers)\n",
    "\n",
    "# Kiểm tra xem có lỗi không (status code 200 là thành công)\n",
    "if response.status_code == 200:\n",
    "    # In nội dung phản hồi\n",
    "    response = response.json()[\"result\"]\n",
    "else:\n",
    "    # In lỗi nếu có\n",
    "    print(f\"Lỗi {response.status_code}: {response.text}\")\n",
    "\n",
    "response_lenght = len(response)\n",
    "df_api = pd.DataFrame()\n",
    "for i in range(response_lenght):\n",
    "    df_api = pd.concat([df_api, pd.DataFrame([response[i]])])\n",
    "\n",
    "df_api = df_api[df_api[\"quarter\"] != 5]\n",
    "df_api = df_api[::-1]"
   ]
  },
  {
   "cell_type": "code",
   "execution_count": 311,
   "metadata": {},
   "outputs": [],
   "source": [
    "# CONSTANT\n",
    "oneYearRatio = 0.3\n",
    "threeYearRatio = 0.4\n",
    "fiveYearRatio = 0.3\n",
    "\n",
    "\n",
    "YEAR_ONE = 0\n",
    "YEAR_THREE = 2\n",
    "YEAR_FIVE = 4\n",
    "\n",
    "THAM_CHIEU_SALEGR = 0.2\n",
    "TY_TRONG_SALEGR = 0.15\n",
    "\n",
    "THAM_CHIEU_EPS = 0.2\n",
    "TY_TRONG_EPS = 0.2\n",
    "\n",
    "THAM_CHIEU_BVPS = 0.15\n",
    "TY_TRONG_BVPS = 0.05\n",
    "\n",
    "THAM_CHIEU_OPC = 0.15\n",
    "TY_TRONG_OPC = 0.15\n",
    "\n",
    "THAM_CHIEU_NO_DAI_HAN = 0\n",
    "TY_TRONG_NO_DAI_HAN = 0.1\n",
    "\n",
    "THAM_CHIEU_EFFECTIVENESS = 0.1\n",
    "TY_TRONG_EFFECTIVENESS = 0.05\n",
    "\n",
    "THAM_CHIEU_EFFICIENCY = 0.1\n",
    "TY_TRONG_EFFICIENCY = 0.05\n",
    "\n",
    "THAM_CHIEU_PRODUCTIVITY = 0.1\n",
    "TY_TRONG_PRODUCTIVITY = 0.05\n",
    "\n",
    "THAM_CHIEU_ROA = 0.15\n",
    "TY_TRONG_ROA = 0.1\n",
    "\n",
    "THAM_CHIEU_ROE = 0.2\n",
    "TY_TRONG_ROE = 0.05\n",
    "\n",
    "THAM_CHIEU_ROIC = 0.15\n",
    "TY_TRONG_ROIC = 0.15"
   ]
  },
  {
   "cell_type": "code",
   "execution_count": 312,
   "metadata": {},
   "outputs": [],
   "source": [
    "# NECESSARY\n",
    "df_api[\"TOTAL_ASSETS\"] = df_api[\"marketcap\"] * df_api[\"pb\"]"
   ]
  },
  {
   "cell_type": "code",
   "execution_count": 313,
   "metadata": {},
   "outputs": [],
   "source": [
    "def cal_growth_rate(series):\n",
    "    before = series.shift(-4).values\n",
    "    after = series.values\n",
    "    return (after - before)/before"
   ]
  },
  {
   "cell_type": "code",
   "execution_count": 314,
   "metadata": {},
   "outputs": [],
   "source": [
    "# 1.Sale Growth Rate\n",
    "SaleGR = df_api[\"netSale_Growth_YoY\"].values"
   ]
  },
  {
   "cell_type": "code",
   "execution_count": 315,
   "metadata": {},
   "outputs": [],
   "source": [
    "# 2. EPS Growth Rate\n",
    "epsGR = df_api[\"eps_Growth_YoY\"].values"
   ]
  },
  {
   "cell_type": "code",
   "execution_count": 316,
   "metadata": {},
   "outputs": [],
   "source": [
    "# 3. BVPS Growht Rate\n",
    "ln = df_api[\"profit\"]\n",
    "eps = df_api[\"eps\"]\n",
    "socp = ln * 1.0 /eps\n",
    "vonchusohuu = ln / df_api[\"mE_ROE\"]\n",
    "bvps = vonchusohuu / socp"
   ]
  },
  {
   "cell_type": "code",
   "execution_count": 317,
   "metadata": {},
   "outputs": [],
   "source": [
    "bvpsGR = cal_growth_rate(bvps)"
   ]
  },
  {
   "cell_type": "code",
   "execution_count": 318,
   "metadata": {},
   "outputs": [],
   "source": [
    "# 4.OPC LCDTKD\n",
    "OPC_LCDTKD = df_api[\"cF_Operating\"]\n",
    "OPC_LCDTKDGR = cal_growth_rate(OPC_LCDTKD)"
   ]
  },
  {
   "cell_type": "code",
   "execution_count": 319,
   "metadata": {},
   "outputs": [],
   "source": [
    "# 5. Nợ dài hạn\n",
    "no_dai_han = df_api[\"fS_DebtOnEquityRatio\"] * vonchusohuu\n",
    "no_dai_han_GR = cal_growth_rate(no_dai_han)"
   ]
  },
  {
   "cell_type": "code",
   "execution_count": 320,
   "metadata": {},
   "outputs": [],
   "source": [
    "# 6. Effectiveness\n",
    "effectiveness = df_api[\"netSale\"] / df_api[\"TOTAL_ASSETS\"]\n",
    "effectivenessGR = cal_growth_rate(effectiveness)"
   ]
  },
  {
   "cell_type": "code",
   "execution_count": 321,
   "metadata": {},
   "outputs": [],
   "source": [
    "# 7. Efficiency\n",
    "efficiency = df_api[\"profit\"] / df_api[\"netSale\"]\n",
    "efficiencyGR = cal_growth_rate(efficiency)"
   ]
  },
  {
   "cell_type": "code",
   "execution_count": 322,
   "metadata": {},
   "outputs": [],
   "source": [
    "# 8.productivity\n",
    "productivity = OPC_LCDTKD / ln\n",
    "productivityGR = cal_growth_rate(productivity)"
   ]
  },
  {
   "cell_type": "code",
   "execution_count": 323,
   "metadata": {},
   "outputs": [],
   "source": [
    "# 9. ROA\n",
    "ROA = df_api[\"mE_ROA_Growth_TTM\"].values"
   ]
  },
  {
   "cell_type": "code",
   "execution_count": 324,
   "metadata": {},
   "outputs": [],
   "source": [
    "# 10. ROE\n",
    "ROE = df_api[\"mE_ROE_Growth_TTM\"].values"
   ]
  },
  {
   "cell_type": "code",
   "execution_count": 325,
   "metadata": {},
   "outputs": [],
   "source": [
    "# 11. ROIC\n",
    "ROIC = df_api[\"profit\"] / (df_api[\"TOTAL_ASSETS\"] + no_dai_han)\n",
    "ROIC_GR = cal_growth_rate(ROIC)"
   ]
  },
  {
   "cell_type": "code",
   "execution_count": 331,
   "metadata": {},
   "outputs": [],
   "source": [
    "def calculate_point_item(chiso, tham_chieu):\n",
    "    val1 = oneYearRatio if chiso[YEAR_ONE] >= tham_chieu else chiso[YEAR_ONE] / tham_chieu * oneYearRatio\n",
    "    val2 = threeYearRatio if chiso[YEAR_THREE] >= tham_chieu else chiso[YEAR_THREE] / tham_chieu * threeYearRatio\n",
    "    val3 = fiveYearRatio if chiso[YEAR_FIVE] >= tham_chieu else chiso[YEAR_FIVE] / tham_chieu * fiveYearRatio\n",
    "    sum_val =  (val1 + val2 + val3) * 100\n",
    "    if sum_val < 0: return 0\n",
    "    return sum_val"
   ]
  },
  {
   "cell_type": "code",
   "execution_count": 333,
   "metadata": {},
   "outputs": [],
   "source": [
    "def calculate4M():\n",
    "    sum1 = calculate_point_item(SaleGR, THAM_CHIEU_SALEGR)\n",
    "    sum2 = calculate_point_item(epsGR, THAM_CHIEU_EPS)\n",
    "    sum3 = calculate_point_item(bvpsGR, THAM_CHIEU_BVPS)\n",
    "    sum4 = calculate_point_item(OPC_LCDTKDGR, THAM_CHIEU_OPC)\n",
    "    sum5 = calculate_point_item(no_dai_han_GR, THAM_CHIEU_NO_DAI_HAN)\n",
    "    sum6 = calculate_point_item(effectivenessGR, THAM_CHIEU_EFFECTIVENESS)\n",
    "    sum7 = calculate_point_item(efficiencyGR, THAM_CHIEU_EFFICIENCY)\n",
    "    sum8 = calculate_point_item(productivityGR, THAM_CHIEU_PRODUCTIVITY)\n",
    "    sum9 = calculate_point_item(ROA, THAM_CHIEU_ROA)\n",
    "    sum10 = calculate_point_item(ROE,THAM_CHIEU_ROE)\n",
    "    sum11 = calculate_point_item(ROIC_GR, THAM_CHIEU_ROIC)\n",
    "    return sum1 * TY_TRONG_SALEGR + sum2 * TY_TRONG_EPS + sum3 * TY_TRONG_BVPS + sum4 * TY_TRONG_OPC + sum5 * TY_TRONG_NO_DAI_HAN + sum6 * TY_TRONG_EFFECTIVENESS + sum7 * TY_TRONG_EFFICIENCY + sum8 * TY_TRONG_PRODUCTIVITY + sum9 * TY_TRONG_ROA + sum10 * TY_TRONG_ROE + sum11 * TY_TRONG_ROIC"
   ]
  },
  {
   "cell_type": "code",
   "execution_count": 334,
   "metadata": {},
   "outputs": [
    {
     "name": "stderr",
     "output_type": "stream",
     "text": [
      "C:\\Users\\quang\\AppData\\Local\\Temp\\ipykernel_23328\\877676987.py:3: RuntimeWarning: divide by zero encountered in scalar divide\n",
      "  val2 = threeYearRatio if chiso[YEAR_THREE] >= tham_chieu else chiso[YEAR_THREE] / tham_chieu * threeYearRatio\n",
      "C:\\Users\\quang\\AppData\\Local\\Temp\\ipykernel_23328\\877676987.py:4: RuntimeWarning: divide by zero encountered in scalar divide\n",
      "  val3 = fiveYearRatio if chiso[YEAR_FIVE] >= tham_chieu else chiso[YEAR_FIVE] / tham_chieu * fiveYearRatio\n"
     ]
    },
    {
     "data": {
      "text/plain": [
       "19.86018877673142"
      ]
     },
     "execution_count": 334,
     "metadata": {},
     "output_type": "execute_result"
    }
   ],
   "source": [
    "VALUE_4m_BSR = calculate4M()\n",
    "VALUE_4m_BSR"
   ]
  }
 ],
 "metadata": {
  "kernelspec": {
   "display_name": "ml",
   "language": "python",
   "name": "python3"
  },
  "language_info": {
   "codemirror_mode": {
    "name": "ipython",
    "version": 3
   },
   "file_extension": ".py",
   "mimetype": "text/x-python",
   "name": "python",
   "nbconvert_exporter": "python",
   "pygments_lexer": "ipython3",
   "version": "3.11.7"
  }
 },
 "nbformat": 4,
 "nbformat_minor": 2
}
