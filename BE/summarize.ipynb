{
 "cells": [
  {
   "cell_type": "markdown",
   "metadata": {},
   "source": [
    "# Load data"
   ]
  },
  {
   "cell_type": "code",
   "execution_count": 534,
   "metadata": {},
   "outputs": [],
   "source": [
    "import pandas as pd\n",
    "import requests\n",
    "from datetime import datetime"
   ]
  },
  {
   "cell_type": "code",
   "execution_count": 535,
   "metadata": {},
   "outputs": [
    {
     "name": "stderr",
     "output_type": "stream",
     "text": [
      "C:\\Users\\quang\\AppData\\Local\\Temp\\ipykernel_23328\\1443263673.py:36: FutureWarning: The behavior of DataFrame concatenation with empty or all-NA entries is deprecated. In a future version, this will no longer exclude empty or all-NA columns when determining the result dtypes. To retain the old behavior, exclude the relevant entries before the concat operation.\n",
      "  df_api = pd.concat([df_api, pd.DataFrame([response[i]])])\n"
     ]
    }
   ],
   "source": [
    "_STOCK = \"FPT\"\n",
    "\n",
    "headers = {\n",
    "        'authority': 'fwtapi2.fialda.com',\n",
    "        'method': 'GET',\n",
    "        'scheme' : 'https',\n",
    "        'Accept' : 'text/html,application/xhtml+xml,application/xml;q=0.9,image/webp,image/apng,*/*;q=0.8,application/signed-exchange;v=b3;q=0.7',\n",
    "        'Accept-Encoding' : 'gzip, deflate, br',\n",
    "        'Accept-Language' : 'en-US,en;q=0.9',\n",
    "        'Cache-Control' : 'max-age=0',\n",
    "        'Sec-Ch-Ua' : '\"Not_A Brand\";v=\"8\", \"Chromium\";v=\"120\", \"Microsoft Edge\";v=\"120\"',\n",
    "        'Sec-Ch-Ua-Mobile' : '?0',\n",
    "        'Sec-Ch-Ua-Platform' : '\"Windows\"',\n",
    "        'Sec-Fetch-Dest' : 'document',\n",
    "        'Sec-Fetch-Mode': 'navigate',\n",
    "        'Sec-Fetch-Site' : 'None',\n",
    "        'Sec-Fetch-User' : '?1',\n",
    "        'Upgrade-Insecure-Requests' : '1',\n",
    "        'User-Agent' : \"Mozilla/5.0 (Windows NT 10.0; Win64; x64) AppleWebKit/537.36 (KHTML, like Gecko) Chrome/120.0.0.0 Safari/537.36 Edg/120.0.0.0\"\n",
    "    }\n",
    "api_url = f\"https://fwtapi2.fialda.com/api/services/app/TechnicalAnalysis/GetFinancialHighlights?symbol={_STOCK}\"\n",
    "\n",
    "response = requests.get(api_url,headers=headers)\n",
    "\n",
    "# Kiểm tra xem có lỗi không (status code 200 là thành công)\n",
    "if response.status_code == 200:\n",
    "    # In nội dung phản hồi\n",
    "    response = response.json()[\"result\"]\n",
    "else:\n",
    "    # In lỗi nếu có\n",
    "    print(f\"Lỗi {response.status_code}: {response.text}\")\n",
    "\n",
    "response_lenght = len(response)\n",
    "df_api = pd.DataFrame()\n",
    "for i in range(response_lenght):\n",
    "    df_api = pd.concat([df_api, pd.DataFrame([response[i]])])\n",
    "\n",
    "df_api = df_api[df_api[\"quarter\"] != 5]\n",
    "df_api = df_api[::-1]"
   ]
  },
  {
   "cell_type": "code",
   "execution_count": 536,
   "metadata": {},
   "outputs": [],
   "source": [
    "current_year = datetime.now().year\n",
    "lastyear = current_year - 1\n",
    "\n",
    "temp = df_api[[\"year\", \"quarter\", \"profit\"]]\n",
    "last_year_profit = temp[temp[\"year\"] == lastyear].sum().profit"
   ]
  },
  {
   "cell_type": "code",
   "execution_count": 537,
   "metadata": {},
   "outputs": [],
   "source": [
    "# CONSTANT\n",
    "oneYearRatio = 0.3\n",
    "threeYearRatio = 0.4\n",
    "fiveYearRatio = 0.3\n",
    "\n",
    "YEAR_ONE = 0\n",
    "YEAR_THREE = 2\n",
    "YEAR_FIVE = 4\n",
    "\n",
    "THAM_CHIEU_SALEGR = 0.2\n",
    "TY_TRONG_SALEGR = 0.15\n",
    "\n",
    "THAM_CHIEU_EPS = 0.2\n",
    "TY_TRONG_EPS = 0.2\n",
    "\n",
    "THAM_CHIEU_BVPS = 0.15\n",
    "TY_TRONG_BVPS = 0.05\n",
    "\n",
    "THAM_CHIEU_OPC = 0.15\n",
    "TY_TRONG_OPC = 0.15\n",
    "\n",
    "THAM_CHIEU_NO_DAI_HAN = last_year_profit * 3\n",
    "TY_TRONG_NO_DAI_HAN = 0.1\n",
    "\n",
    "THAM_CHIEU_EFFECTIVENESS = 0.1\n",
    "TY_TRONG_EFFECTIVENESS = 0.05\n",
    "\n",
    "THAM_CHIEU_EFFICIENCY = 0.1\n",
    "TY_TRONG_EFFICIENCY = 0.05\n",
    "\n",
    "THAM_CHIEU_PRODUCTIVITY = 0.1\n",
    "TY_TRONG_PRODUCTIVITY = 0.05\n",
    "\n",
    "THAM_CHIEU_ROA = 0.15\n",
    "TY_TRONG_ROA = 0.1\n",
    "\n",
    "THAM_CHIEU_ROE = 0.2\n",
    "TY_TRONG_ROE = 0.05\n",
    "\n",
    "THAM_CHIEU_ROIC = 0.15\n",
    "TY_TRONG_ROIC = 0.15"
   ]
  },
  {
   "cell_type": "code",
   "execution_count": 538,
   "metadata": {},
   "outputs": [],
   "source": [
    "# NECESSARY\n",
    "df_api[\"TOTAL_ASSETS\"] = df_api[\"marketcap\"] * df_api[\"pb\"]\n",
    "df_api[\"VON_CHU_SO_HUU\"] = df_api[\"profit\"] / df_api[\"mE_ROE\"]"
   ]
  },
  {
   "cell_type": "code",
   "execution_count": 539,
   "metadata": {},
   "outputs": [],
   "source": [
    "def cal_growth_rate(series):\n",
    "    before = series.shift(-4).values\n",
    "    after = series.values\n",
    "    return (after - before)/before"
   ]
  },
  {
   "cell_type": "code",
   "execution_count": 540,
   "metadata": {},
   "outputs": [],
   "source": [
    "# 1.Sale Growth Rate\n",
    "Sale = df_api[\"netSale\"]\n",
    "SaleGR = cal_growth_rate(Sale)"
   ]
  },
  {
   "cell_type": "code",
   "execution_count": 541,
   "metadata": {},
   "outputs": [],
   "source": [
    "# 2. EPS Growth Rate\n",
    "eps = df_api[\"eps\"]\n",
    "epsGR = cal_growth_rate(eps)"
   ]
  },
  {
   "cell_type": "code",
   "execution_count": 542,
   "metadata": {},
   "outputs": [],
   "source": [
    "# 3. BVPS Growht Rate\n",
    "eps = df_api[\"eps\"]\n",
    "socp = df_api[\"profit\"] * 1.0 /eps\n",
    "bvps = df_api[\"VON_CHU_SO_HUU\"] / socp"
   ]
  },
  {
   "cell_type": "code",
   "execution_count": 543,
   "metadata": {},
   "outputs": [],
   "source": [
    "bvpsGR = cal_growth_rate(bvps)"
   ]
  },
  {
   "cell_type": "code",
   "execution_count": 544,
   "metadata": {},
   "outputs": [],
   "source": [
    "# 4.OPC LCDTKD\n",
    "OPC_LCDTKD = df_api[\"cF_Operating\"]\n",
    "OPC_LCDTKDGR = cal_growth_rate(OPC_LCDTKD)"
   ]
  },
  {
   "cell_type": "code",
   "execution_count": 545,
   "metadata": {},
   "outputs": [
    {
     "data": {
      "text/plain": [
       "22319018246401.902"
      ]
     },
     "execution_count": 545,
     "metadata": {},
     "output_type": "execute_result"
    }
   ],
   "source": [
    "# 5. Nợ dài hạn\n",
    "df_api[\"NO_DAI_HAN\"] = df_api[\"fS_DebtOnEquityRatio\"] * df_api[\"VON_CHU_SO_HUU\"]\n",
    "temp = df_api[[\"year\", \"quarter\", \"NO_DAI_HAN\"]]\n",
    "no_dai_han = temp[temp[\"year\"] == lastyear].sum().NO_DAI_HAN\n",
    "no_dai_han"
   ]
  },
  {
   "cell_type": "code",
   "execution_count": 546,
   "metadata": {},
   "outputs": [],
   "source": [
    "# 6. Effectiveness\n",
    "effectiveness = df_api[\"netSale\"] / df_api[\"TOTAL_ASSETS\"]\n",
    "effectivenessGR = cal_growth_rate(effectiveness)"
   ]
  },
  {
   "cell_type": "code",
   "execution_count": 547,
   "metadata": {},
   "outputs": [],
   "source": [
    "# 7. Efficiency\n",
    "efficiency = df_api[\"profit\"] / df_api[\"netSale\"]\n",
    "efficiencyGR = cal_growth_rate(efficiency)"
   ]
  },
  {
   "cell_type": "code",
   "execution_count": 548,
   "metadata": {},
   "outputs": [],
   "source": [
    "# 8.productivity\n",
    "productivity = OPC_LCDTKD / df_api[\"profit\"]\n",
    "productivityGR = cal_growth_rate(productivity)"
   ]
  },
  {
   "cell_type": "code",
   "execution_count": 549,
   "metadata": {},
   "outputs": [],
   "source": [
    "# 9. ROA\n",
    "ROA = df_api[\"mE_ROA\"]\n",
    "ROAGR = cal_growth_rate(ROA)"
   ]
  },
  {
   "cell_type": "code",
   "execution_count": 550,
   "metadata": {},
   "outputs": [],
   "source": [
    "# 10. ROE\n",
    "ROE = df_api[\"mE_ROE\"]\n",
    "ROEGR = cal_growth_rate(ROE)"
   ]
  },
  {
   "cell_type": "code",
   "execution_count": 551,
   "metadata": {},
   "outputs": [],
   "source": [
    "# 11. ROIC\n",
    "ROIC = df_api[\"profit\"] / (df_api[\"TOTAL_ASSETS\"] + no_dai_han)\n",
    "ROIC_GR = cal_growth_rate(ROIC)"
   ]
  },
  {
   "cell_type": "code",
   "execution_count": 552,
   "metadata": {},
   "outputs": [],
   "source": [
    "def calculate_point_item(chiso, tham_chieu):\n",
    "    val1 = oneYearRatio if chiso[YEAR_ONE] >= tham_chieu else chiso[YEAR_ONE] / tham_chieu * oneYearRatio\n",
    "    val2 = threeYearRatio if chiso[YEAR_THREE] >= tham_chieu else chiso[YEAR_THREE] / tham_chieu * threeYearRatio\n",
    "    val3 = fiveYearRatio if chiso[YEAR_FIVE] >= tham_chieu else chiso[YEAR_FIVE] / tham_chieu * fiveYearRatio\n",
    "    sum_val =  (val1 + val2 + val3) * 100\n",
    "    if sum_val < 0: return 0\n",
    "    return sum_val"
   ]
  },
  {
   "cell_type": "code",
   "execution_count": 553,
   "metadata": {},
   "outputs": [],
   "source": [
    "def calculate4M():\n",
    "    sum1 = calculate_point_item(SaleGR, THAM_CHIEU_SALEGR)\n",
    "    sum2 = calculate_point_item(epsGR, THAM_CHIEU_EPS)\n",
    "    sum3 = calculate_point_item(bvpsGR, THAM_CHIEU_BVPS)\n",
    "    sum4 = calculate_point_item(OPC_LCDTKDGR, THAM_CHIEU_OPC)\n",
    "    sum5 = oneYearRatio if no_dai_han >= THAM_CHIEU_NO_DAI_HAN else no_dai_han / THAM_CHIEU_NO_DAI_HAN * oneYearRatio\n",
    "    sum6 = calculate_point_item(effectivenessGR, THAM_CHIEU_EFFECTIVENESS)\n",
    "    sum7 = calculate_point_item(efficiencyGR, THAM_CHIEU_EFFICIENCY)\n",
    "    sum8 = calculate_point_item(productivityGR, THAM_CHIEU_PRODUCTIVITY)\n",
    "    sum9 = calculate_point_item(ROAGR, THAM_CHIEU_ROA)\n",
    "    sum10 = calculate_point_item(ROEGR,THAM_CHIEU_ROE)\n",
    "    sum11 = calculate_point_item(ROIC_GR, THAM_CHIEU_ROIC)\n",
    "\n",
    "    sum12 = (sum6 + sum7 + sum8) \n",
    "    \n",
    "    return sum1 * TY_TRONG_SALEGR + sum2 * TY_TRONG_EPS + sum3 * TY_TRONG_BVPS + sum4 * TY_TRONG_OPC + sum5 * TY_TRONG_NO_DAI_HAN + sum12 * TY_TRONG_EFFECTIVENESS + sum9 * TY_TRONG_ROA + sum10 * TY_TRONG_ROE + sum11 * TY_TRONG_ROIC"
   ]
  },
  {
   "cell_type": "code",
   "execution_count": 554,
   "metadata": {},
   "outputs": [
    {
     "data": {
      "text/plain": [
       "30.09318090478496"
      ]
     },
     "execution_count": 554,
     "metadata": {},
     "output_type": "execute_result"
    }
   ],
   "source": [
    "VALUE_4m_BSR = calculate4M()\n",
    "VALUE_4m_BSR"
   ]
  }
 ],
 "metadata": {
  "kernelspec": {
   "display_name": "ml",
   "language": "python",
   "name": "python3"
  },
  "language_info": {
   "codemirror_mode": {
    "name": "ipython",
    "version": 3
   },
   "file_extension": ".py",
   "mimetype": "text/x-python",
   "name": "python",
   "nbconvert_exporter": "python",
   "pygments_lexer": "ipython3",
   "version": "3.11.7"
  }
 },
 "nbformat": 4,
 "nbformat_minor": 2
}
