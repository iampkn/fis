{
 "cells": [
  {
   "cell_type": "code",
   "execution_count": 3,
   "metadata": {},
   "outputs": [],
   "source": [
    "import requests\n",
    "import pandas as pd\n",
    "import os\n",
    "\n",
    "_STOCK_LIST = [\"BSR\", \"PVS\", \"HAG\", \"HAX\", \"VNM\", \"GAS\", \"STB\", \"HUT\", \"NT2\"]\n",
    "\n",
    "headers = {\n",
    "        'authority': 'fwtapi2.fialda.com',\n",
    "        'method': 'GET',\n",
    "        'scheme' : 'https',\n",
    "        'Accept' : 'text/html,application/xhtml+xml,application/xml;q=0.9,image/webp,image/apng,*/*;q=0.8,application/signed-exchange;v=b3;q=0.7',\n",
    "        'Accept-Encoding' : 'gzip, deflate, br',\n",
    "        'Accept-Language' : 'en-US,en;q=0.9',\n",
    "        'Cache-Control' : 'max-age=0',\n",
    "        'Sec-Ch-Ua' : '\"Not_A Brand\";v=\"8\", \"Chromium\";v=\"120\", \"Microsoft Edge\";v=\"120\"',\n",
    "        'Sec-Ch-Ua-Mobile' : '?0',\n",
    "        'Sec-Ch-Ua-Platform' : '\"Windows\"',\n",
    "        'Sec-Fetch-Dest' : 'document',\n",
    "        'Sec-Fetch-Mode': 'navigate',\n",
    "        'Sec-Fetch-Site' : 'None',\n",
    "        'Sec-Fetch-User' : '?1',\n",
    "        'Upgrade-Insecure-Requests' : '1',\n",
    "        'User-Agent' : \"Mozilla/5.0 (Windows NT 10.0; Win64; x64) AppleWebKit/537.36 (KHTML, like Gecko) Chrome/120.0.0.0 Safari/537.36 Edg/120.0.0.0\"\n",
    "    }"
   ]
  },
  {
   "cell_type": "code",
   "execution_count": 4,
   "metadata": {},
   "outputs": [
    {
     "name": "stderr",
     "output_type": "stream",
     "text": [
      "C:\\Users\\quang\\AppData\\Local\\Temp\\ipykernel_5612\\3342896785.py:19: FutureWarning: The behavior of DataFrame concatenation with empty or all-NA entries is deprecated. In a future version, this will no longer exclude empty or all-NA columns when determining the result dtypes. To retain the old behavior, exclude the relevant entries before the concat operation.\n",
      "  df_api = pd.concat([df_api, pd.DataFrame([response[i]])])\n",
      "C:\\Users\\quang\\AppData\\Local\\Temp\\ipykernel_5612\\3342896785.py:19: FutureWarning: The behavior of DataFrame concatenation with empty or all-NA entries is deprecated. In a future version, this will no longer exclude empty or all-NA columns when determining the result dtypes. To retain the old behavior, exclude the relevant entries before the concat operation.\n",
      "  df_api = pd.concat([df_api, pd.DataFrame([response[i]])])\n",
      "C:\\Users\\quang\\AppData\\Local\\Temp\\ipykernel_5612\\3342896785.py:19: FutureWarning: The behavior of DataFrame concatenation with empty or all-NA entries is deprecated. In a future version, this will no longer exclude empty or all-NA columns when determining the result dtypes. To retain the old behavior, exclude the relevant entries before the concat operation.\n",
      "  df_api = pd.concat([df_api, pd.DataFrame([response[i]])])\n",
      "C:\\Users\\quang\\AppData\\Local\\Temp\\ipykernel_5612\\3342896785.py:19: FutureWarning: The behavior of DataFrame concatenation with empty or all-NA entries is deprecated. In a future version, this will no longer exclude empty or all-NA columns when determining the result dtypes. To retain the old behavior, exclude the relevant entries before the concat operation.\n",
      "  df_api = pd.concat([df_api, pd.DataFrame([response[i]])])\n",
      "C:\\Users\\quang\\AppData\\Local\\Temp\\ipykernel_5612\\3342896785.py:19: FutureWarning: The behavior of DataFrame concatenation with empty or all-NA entries is deprecated. In a future version, this will no longer exclude empty or all-NA columns when determining the result dtypes. To retain the old behavior, exclude the relevant entries before the concat operation.\n",
      "  df_api = pd.concat([df_api, pd.DataFrame([response[i]])])\n",
      "C:\\Users\\quang\\AppData\\Local\\Temp\\ipykernel_5612\\3342896785.py:19: FutureWarning: The behavior of DataFrame concatenation with empty or all-NA entries is deprecated. In a future version, this will no longer exclude empty or all-NA columns when determining the result dtypes. To retain the old behavior, exclude the relevant entries before the concat operation.\n",
      "  df_api = pd.concat([df_api, pd.DataFrame([response[i]])])\n",
      "C:\\Users\\quang\\AppData\\Local\\Temp\\ipykernel_5612\\3342896785.py:19: FutureWarning: The behavior of DataFrame concatenation with empty or all-NA entries is deprecated. In a future version, this will no longer exclude empty or all-NA columns when determining the result dtypes. To retain the old behavior, exclude the relevant entries before the concat operation.\n",
      "  df_api = pd.concat([df_api, pd.DataFrame([response[i]])])\n",
      "C:\\Users\\quang\\AppData\\Local\\Temp\\ipykernel_5612\\3342896785.py:19: FutureWarning: The behavior of DataFrame concatenation with empty or all-NA entries is deprecated. In a future version, this will no longer exclude empty or all-NA columns when determining the result dtypes. To retain the old behavior, exclude the relevant entries before the concat operation.\n",
      "  df_api = pd.concat([df_api, pd.DataFrame([response[i]])])\n"
     ]
    }
   ],
   "source": [
    "for stock in _STOCK_LIST:\n",
    "    folder_path = f\"../stock_data/{stock}\"\n",
    "\n",
    "    api_url = f\"https://fwtapi1.fialda.com/api/services/app/StockInfo/GetTradingChartData?symbol={stock}&interval=1h&toTime=2024-01-07T15:00:00.000\"\n",
    "\n",
    "    response = requests.get(api_url,headers=headers)\n",
    "\n",
    "    # Kiểm tra xem có lỗi không (status code 200 là thành công)\n",
    "    if response.status_code == 200:\n",
    "        # In nội dung phản hồi\n",
    "        response = response.json()[\"result\"]\n",
    "    else:\n",
    "        # In lỗi nếu có\n",
    "        print(f\"Lỗi {response.status_code}: {response.text}\")\n",
    "\n",
    "    response_lenght = len(response)\n",
    "    df_api = pd.DataFrame()\n",
    "    for i in range(response_lenght):\n",
    "        df_api = pd.concat([df_api, pd.DataFrame([response[i]])])\n",
    "\n",
    "    if not os.path.exists(folder_path):\n",
    "    # If not, create the folder\n",
    "        os.makedirs(folder_path)\n",
    "\n",
    "    df_api.to_excel(f\"{folder_path}/{stock}_price_1h.xlsx\")"
   ]
  }
 ],
 "metadata": {
  "kernelspec": {
   "display_name": "Python 3",
   "language": "python",
   "name": "python3"
  },
  "language_info": {
   "codemirror_mode": {
    "name": "ipython",
    "version": 3
   },
   "file_extension": ".py",
   "mimetype": "text/x-python",
   "name": "python",
   "nbconvert_exporter": "python",
   "pygments_lexer": "ipython3",
   "version": "3.11.7"
  }
 },
 "nbformat": 4,
 "nbformat_minor": 2
}
