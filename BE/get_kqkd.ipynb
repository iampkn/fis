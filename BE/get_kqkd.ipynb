{
 "cells": [
  {
   "cell_type": "code",
   "execution_count": 7,
   "metadata": {},
   "outputs": [],
   "source": [
    "import requests\n",
    "import pandas as pd\n",
    "import os\n",
    "\n",
    "_STOCK_LIST = [\"BSR\", \"PVS\", \"HAG\", \"HAX\", \"VNM\", \"GAS\", \"STB\", \"HUT\", \"NT2\"]\n",
    "\n",
    "headers = {\n",
    "        'authority': 'fwtapi2.fialda.com',\n",
    "        'method': 'GET',\n",
    "        'scheme' : 'https',\n",
    "        'Accept' : 'text/html,application/xhtml+xml,application/xml;q=0.9,image/webp,image/apng,*/*;q=0.8,application/signed-exchange;v=b3;q=0.7',\n",
    "        'Accept-Encoding' : 'gzip, deflate, br',\n",
    "        'Accept-Language' : 'en-US,en;q=0.9',\n",
    "        'Cache-Control' : 'max-age=0',\n",
    "        'Sec-Ch-Ua' : '\"Not_A Brand\";v=\"8\", \"Chromium\";v=\"120\", \"Microsoft Edge\";v=\"120\"',\n",
    "        'Sec-Ch-Ua-Mobile' : '?0',\n",
    "        'Sec-Ch-Ua-Platform' : '\"Windows\"',\n",
    "        'Sec-Fetch-Dest' : 'document',\n",
    "        'Sec-Fetch-Mode': 'navigate',\n",
    "        'Sec-Fetch-Site' : 'None',\n",
    "        'Sec-Fetch-User' : '?1',\n",
    "        'Upgrade-Insecure-Requests' : '1',\n",
    "        'User-Agent' : \"Mozilla/5.0 (Windows NT 10.0; Win64; x64) AppleWebKit/537.36 (KHTML, like Gecko) Chrome/120.0.0.0 Safari/537.36 Edg/120.0.0.0\"\n",
    "    }"
   ]
  },
  {
   "cell_type": "code",
   "execution_count": 8,
   "metadata": {},
   "outputs": [],
   "source": [
    "for stock in _STOCK_LIST:\n",
    "    folder_path = f\"../stock_data/{stock}\"\n",
    "    api_url = f\"https://fwtapi1.fialda.com/api/services/app/StockInfo/GetFS_IncomeStatement_General?symbol={stock}&isQuarterReport=false\"\n",
    "\n",
    "    response = requests.get(api_url,headers=headers)\n",
    "\n",
    "    # Kiểm tra xem có lỗi không (status code 200 là thành công)\n",
    "    if response.status_code == 200:\n",
    "        # In nội dung phản hồi\n",
    "        response = response.json()[\"result\"]\n",
    "    else:\n",
    "        # In lỗi nếu có\n",
    "        print(f\"Lỗi {response.status_code}: {response.text}\")\n",
    "\n",
    "    response_lenght = len(response)\n",
    "    df_api = pd.DataFrame()\n",
    "    for i in range(response_lenght):\n",
    "        df_api = pd.concat([df_api, pd.DataFrame([response[i]])])\n",
    "\n",
    "    response_lenght = len(response)\n",
    "    df_api = pd.DataFrame()\n",
    "    for i in range(response_lenght):\n",
    "        df_api = pd.concat([df_api, pd.DataFrame([response[i]])])\n",
    "\n",
    "    mapping = [{\"Code\": \"ISA1\",\"Name\": \"Tổng doanh thu hoạt động kinh doanh\"},{\"Code\": \"ISA2\",\"Name\": \"Các khoản giảm trừ doanh thu\"},{\"Code\": \"ISA3\",\"Name\": \"Doanh thu thuần\"},{\"Code\": \"ISA4\",\"Name\": \"Giá vốn hàng bán\"},{\"Code\": \"ISA5\",\"Name\": \"Lợi nhuận gộp\"},{\"Code\": \"ISA6\",\"Name\": \"Doanh thu hoạt động tài chính\"},{\"Code\": \"ISA7\",\"Name\": \"Chi phí tài chính\"},{\"Code\": \"ISA8\",\"Name\": \"Trong đó: Chi phí lãi vay\"},{\"Code\": \"ISA102\",\"Name\": \"Lợi nhuận hoặc lỗ trong công ty liên kết\"},{\"Code\": \"ISA9\",\"Name\": \"Chi phí bán hàng\"},{\"Code\": \"ISA10\",\"Name\": \"Chi phí quản lý doanh nghiệp\"},{\"Code\": \"ISA11\",\"Name\": \"Lợi nhuận thuần từ hoạt động kinh doanh\"},{\"Code\": \"ISA12\",\"Name\": \"Thu nhập khác\"},{\"Code\": \"ISA13\",\"Name\": \"Chi phí khác\"},{\"Code\": \"ISA14\",\"Name\": \"Lợi nhuận khác\"},{\"Code\": \"ISA16\",\"Name\": \"Tổng lợi nhuận kế toán trước thuế\"},{\"Code\": \"ISA19\",\"Name\": \"Chi phí thuế TNDN\"},{\"Code\": \"ISA17\",\"Name\": \"Chi phí thuế TNDN hiện hành\"},{\"Code\": \"ISA18\",\"Name\": \"Chi phí thuế TNDN hoãn lại\"},{\"Code\": \"ISA20\",\"Name\": \"Lợi nhuận sau thuế thu nhập doanh nghiệp\"},{\"Code\": \"ISA21\",\"Name\": \"Lợi ích của cổ đông thiểu số\"},{\"Code\": \"ISA22\",\"Name\": \"Lợi nhuận sau thuế của Công ty mẹ\"},{\"Code\": \"ISAV1\",\"Name\": \"Lãi cơ bản trên cổ phiếu\"},{\"Code\": \"ISAV2\",\"Name\": \"Lãi suy giảm trên cổ phiếu\"}]\n",
    "    df_api.columns = df_api.columns.str.upper()\n",
    "\n",
    "    for i in range(len(mapping)):\n",
    "        df_api.rename(columns={\n",
    "                                mapping[i][\"Code\"]: mapping[i][\"Name\"]\n",
    "                                }, \n",
    "                    inplace=True)\n",
    "    df_api.to_excel(f\"{folder_path}/{stock}_kqkd_y.xlsx\")\n"
   ]
  }
 ],
 "metadata": {
  "kernelspec": {
   "display_name": "Python 3",
   "language": "python",
   "name": "python3"
  },
  "language_info": {
   "codemirror_mode": {
    "name": "ipython",
    "version": 3
   },
   "file_extension": ".py",
   "mimetype": "text/x-python",
   "name": "python",
   "nbconvert_exporter": "python",
   "pygments_lexer": "ipython3",
   "version": "3.11.7"
  }
 },
 "nbformat": 4,
 "nbformat_minor": 2
}
