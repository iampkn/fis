{
 "cells": [
  {
   "cell_type": "markdown",
   "metadata": {},
   "source": [
    "# Load data"
   ]
  },
  {
   "cell_type": "code",
   "execution_count": 34,
   "metadata": {},
   "outputs": [],
   "source": [
    "import pandas as pd\n",
    "import requests\n",
    "from datetime import datetime"
   ]
  },
  {
   "cell_type": "code",
   "execution_count": 35,
   "metadata": {},
   "outputs": [
    {
     "name": "stderr",
     "output_type": "stream",
     "text": [
      "C:\\Users\\quang\\AppData\\Local\\Temp\\ipykernel_25176\\1443263673.py:36: FutureWarning: The behavior of DataFrame concatenation with empty or all-NA entries is deprecated. In a future version, this will no longer exclude empty or all-NA columns when determining the result dtypes. To retain the old behavior, exclude the relevant entries before the concat operation.\n",
      "  df_api = pd.concat([df_api, pd.DataFrame([response[i]])])\n"
     ]
    }
   ],
   "source": [
    "_STOCK = \"FPT\"\n",
    "\n",
    "headers = {\n",
    "        'authority': 'fwtapi2.fialda.com',\n",
    "        'method': 'GET',\n",
    "        'scheme' : 'https',\n",
    "        'Accept' : 'text/html,application/xhtml+xml,application/xml;q=0.9,image/webp,image/apng,*/*;q=0.8,application/signed-exchange;v=b3;q=0.7',\n",
    "        'Accept-Encoding' : 'gzip, deflate, br',\n",
    "        'Accept-Language' : 'en-US,en;q=0.9',\n",
    "        'Cache-Control' : 'max-age=0',\n",
    "        'Sec-Ch-Ua' : '\"Not_A Brand\";v=\"8\", \"Chromium\";v=\"120\", \"Microsoft Edge\";v=\"120\"',\n",
    "        'Sec-Ch-Ua-Mobile' : '?0',\n",
    "        'Sec-Ch-Ua-Platform' : '\"Windows\"',\n",
    "        'Sec-Fetch-Dest' : 'document',\n",
    "        'Sec-Fetch-Mode': 'navigate',\n",
    "        'Sec-Fetch-Site' : 'None',\n",
    "        'Sec-Fetch-User' : '?1',\n",
    "        'Upgrade-Insecure-Requests' : '1',\n",
    "        'User-Agent' : \"Mozilla/5.0 (Windows NT 10.0; Win64; x64) AppleWebKit/537.36 (KHTML, like Gecko) Chrome/120.0.0.0 Safari/537.36 Edg/120.0.0.0\"\n",
    "    }\n",
    "api_url = f\"https://fwtapi2.fialda.com/api/services/app/TechnicalAnalysis/GetFinancialHighlights?symbol={_STOCK}\"\n",
    "\n",
    "response = requests.get(api_url,headers=headers)\n",
    "\n",
    "# Kiểm tra xem có lỗi không (status code 200 là thành công)\n",
    "if response.status_code == 200:\n",
    "    # In nội dung phản hồi\n",
    "    response = response.json()[\"result\"]\n",
    "else:\n",
    "    # In lỗi nếu có\n",
    "    print(f\"Lỗi {response.status_code}: {response.text}\")\n",
    "\n",
    "response_lenght = len(response)\n",
    "df_api = pd.DataFrame()\n",
    "for i in range(response_lenght):\n",
    "    df_api = pd.concat([df_api, pd.DataFrame([response[i]])])\n",
    "\n",
    "df_api = df_api[df_api[\"quarter\"] != 5]\n",
    "df_api = df_api[::-1]"
   ]
  },
  {
   "cell_type": "code",
   "execution_count": 36,
   "metadata": {},
   "outputs": [],
   "source": [
    "df_api = df_api[[\"year\", \"quarter\", \"netSale\", \"eps\"]].iloc[:9]"
   ]
  },
  {
   "cell_type": "code",
   "execution_count": 37,
   "metadata": {},
   "outputs": [
    {
     "data": {
      "text/html": [
       "<div>\n",
       "<style scoped>\n",
       "    .dataframe tbody tr th:only-of-type {\n",
       "        vertical-align: middle;\n",
       "    }\n",
       "\n",
       "    .dataframe tbody tr th {\n",
       "        vertical-align: top;\n",
       "    }\n",
       "\n",
       "    .dataframe thead th {\n",
       "        text-align: right;\n",
       "    }\n",
       "</style>\n",
       "<table border=\"1\" class=\"dataframe\">\n",
       "  <thead>\n",
       "    <tr style=\"text-align: right;\">\n",
       "      <th></th>\n",
       "      <th>year</th>\n",
       "      <th>quarter</th>\n",
       "      <th>netSale</th>\n",
       "      <th>eps</th>\n",
       "    </tr>\n",
       "  </thead>\n",
       "  <tbody>\n",
       "    <tr>\n",
       "      <th>0</th>\n",
       "      <td>2023</td>\n",
       "      <td>3</td>\n",
       "      <td>1.376174e+13</td>\n",
       "      <td>1369.592905</td>\n",
       "    </tr>\n",
       "    <tr>\n",
       "      <th>0</th>\n",
       "      <td>2023</td>\n",
       "      <td>2</td>\n",
       "      <td>1.248436e+13</td>\n",
       "      <td>1366.636164</td>\n",
       "    </tr>\n",
       "    <tr>\n",
       "      <th>0</th>\n",
       "      <td>2023</td>\n",
       "      <td>1</td>\n",
       "      <td>1.168138e+13</td>\n",
       "      <td>1361.464361</td>\n",
       "    </tr>\n",
       "    <tr>\n",
       "      <th>0</th>\n",
       "      <td>2022</td>\n",
       "      <td>4</td>\n",
       "      <td>1.304243e+13</td>\n",
       "      <td>1232.058676</td>\n",
       "    </tr>\n",
       "    <tr>\n",
       "      <th>0</th>\n",
       "      <td>2022</td>\n",
       "      <td>3</td>\n",
       "      <td>1.114856e+13</td>\n",
       "      <td>1325.142269</td>\n",
       "    </tr>\n",
       "    <tr>\n",
       "      <th>0</th>\n",
       "      <td>2022</td>\n",
       "      <td>2</td>\n",
       "      <td>1.009606e+13</td>\n",
       "      <td>1140.191597</td>\n",
       "    </tr>\n",
       "    <tr>\n",
       "      <th>0</th>\n",
       "      <td>2022</td>\n",
       "      <td>1</td>\n",
       "      <td>9.730254e+12</td>\n",
       "      <td>1365.078700</td>\n",
       "    </tr>\n",
       "    <tr>\n",
       "      <th>0</th>\n",
       "      <td>2021</td>\n",
       "      <td>4</td>\n",
       "      <td>1.070406e+13</td>\n",
       "      <td>1434.102518</td>\n",
       "    </tr>\n",
       "    <tr>\n",
       "      <th>0</th>\n",
       "      <td>2021</td>\n",
       "      <td>3</td>\n",
       "      <td>8.725172e+12</td>\n",
       "      <td>1239.421182</td>\n",
       "    </tr>\n",
       "  </tbody>\n",
       "</table>\n",
       "</div>"
      ],
      "text/plain": [
       "   year  quarter       netSale          eps\n",
       "0  2023        3  1.376174e+13  1369.592905\n",
       "0  2023        2  1.248436e+13  1366.636164\n",
       "0  2023        1  1.168138e+13  1361.464361\n",
       "0  2022        4  1.304243e+13  1232.058676\n",
       "0  2022        3  1.114856e+13  1325.142269\n",
       "0  2022        2  1.009606e+13  1140.191597\n",
       "0  2022        1  9.730254e+12  1365.078700\n",
       "0  2021        4  1.070406e+13  1434.102518\n",
       "0  2021        3  8.725172e+12  1239.421182"
      ]
     },
     "execution_count": 37,
     "metadata": {},
     "output_type": "execute_result"
    }
   ],
   "source": [
    "df_api"
   ]
  },
  {
   "cell_type": "code",
   "execution_count": 39,
   "metadata": {},
   "outputs": [],
   "source": [
    "def calculate_canslim():\n",
    "    THAM_CHIEU_25 = 0.25\n",
    "    THAM_CHIEU_20 = 0.2\n",
    "    TY_TRONG_15 = 0.15\n",
    "    TY_TRONG_20 = 0.2\n",
    "    TY_TRONG_10 = 0.1\n",
    "    TY_TRONG_5 = 0.05\n",
    "    data_sales = df_api[\"netSale\"].values\n",
    "\n",
    "    tltt_a_sale =  (data_sales[0] - data_sales[4])/data_sales[4]\n",
    "    score_a_sale = TY_TRONG_15 if tltt_a_sale > THAM_CHIEU_25 else tltt_a_sale/THAM_CHIEU_25 * TY_TRONG_15\n",
    "    score_a_sale = score_a_sale if score_a_sale > 0 else 0\n",
    "\n",
    "    tltt_b_sale =  (data_sales[1] - data_sales[5])/data_sales[5]\n",
    "    score_b_sale = TY_TRONG_10 if tltt_b_sale > THAM_CHIEU_25 else tltt_b_sale/THAM_CHIEU_25 * TY_TRONG_10\n",
    "    score_b_sale = score_b_sale if score_b_sale > 0 else 0\n",
    "\n",
    "    tltt_c_sale = (data_sales[:4].sum() - data_sales[4:4+4].sum()) /data_sales[4:4+4].sum()\n",
    "    score_c_sale = TY_TRONG_10 if tltt_c_sale > THAM_CHIEU_20 else tltt_c_sale/THAM_CHIEU_20 * TY_TRONG_10\n",
    "    score_c_sale = score_c_sale if score_c_sale > 0 else 0\n",
    "\n",
    "    tltt_d_sale = (data_sales[1:5].sum() - data_sales[5:5+4].sum()) /data_sales[5:5+4].sum()\n",
    "    score_d_sale = TY_TRONG_5 if tltt_d_sale > THAM_CHIEU_20 else tltt_d_sale/THAM_CHIEU_20 * TY_TRONG_5\n",
    "    score_d_sale = score_d_sale if score_d_sale > 0 else 0\n",
    "\n",
    "    data_eps = df_api[\"eps\"].values\n",
    "    tltt_a_eps =  (data_eps[0] - data_eps[4])/data_eps[4]\n",
    "    score_a_eps = TY_TRONG_20 if tltt_a_eps > THAM_CHIEU_25 else tltt_a_eps/THAM_CHIEU_25 * TY_TRONG_20\n",
    "    score_a_eps = score_a_eps if score_a_eps > 0 else 0\n",
    "\n",
    "    tltt_b_eps =  (data_eps[1] - data_eps[5])/data_eps[5]\n",
    "    score_b_eps = TY_TRONG_15 if tltt_b_eps > THAM_CHIEU_25 else tltt_b_eps/THAM_CHIEU_25 * TY_TRONG_15\n",
    "    score_b_eps = score_b_eps if score_b_eps > 0 else 0\n",
    "\n",
    "    tltt_c_eps = (data_eps[:4].sum() - data_eps[4:4+4].sum()) /data_eps[5:5+4].sum()\n",
    "    score_c_eps = TY_TRONG_15 if tltt_c_eps > THAM_CHIEU_20 else tltt_c_eps/THAM_CHIEU_20 * TY_TRONG_15\n",
    "    score_c_eps = score_c_eps if score_c_eps > 0 else 0\n",
    "\n",
    "    tltt_d_eps = (data_eps[1:5].sum() - data_eps[5:5+4].sum()) /data_eps[5:5+4].sum()\n",
    "    score_d_eps = TY_TRONG_10 if tltt_d_eps > THAM_CHIEU_20 else tltt_d_eps/THAM_CHIEU_20 * TY_TRONG_10\n",
    "    score_d_eps = score_d_eps if score_d_eps > 0 else 0\n",
    "\n",
    "    C =  score_a_eps + score_b_eps + score_a_sale + score_b_sale\n",
    "    A = score_c_eps + score_d_eps + score_c_sale + score_d_sale\n",
    "    \n",
    "    return (C + A) * 100"
   ]
  },
  {
   "cell_type": "code",
   "execution_count": 40,
   "metadata": {},
   "outputs": [
    {
     "data": {
      "text/plain": [
       "55.09885775813659"
      ]
     },
     "execution_count": 40,
     "metadata": {},
     "output_type": "execute_result"
    }
   ],
   "source": [
    "canslilm_val = calculate_canslim()\n",
    "canslilm_val"
   ]
  }
 ],
 "metadata": {
  "kernelspec": {
   "display_name": "ml",
   "language": "python",
   "name": "python3"
  },
  "language_info": {
   "codemirror_mode": {
    "name": "ipython",
    "version": 3
   },
   "file_extension": ".py",
   "mimetype": "text/x-python",
   "name": "python",
   "nbconvert_exporter": "python",
   "pygments_lexer": "ipython3",
   "version": "3.11.7"
  }
 },
 "nbformat": 4,
 "nbformat_minor": 2
}
